{
 "cells": [
  {
   "attachments": {},
   "cell_type": "markdown",
   "metadata": {},
   "source": [
    "* Create a python program to find `duplicate files` by `content`. User will input path and it will \n",
    "scan all directories, sub-directories to find all `duplicates files`.\n",
    "* `Delete` the found duplicate file"
   ]
  },
  {
   "cell_type": "code",
   "execution_count": 31,
   "metadata": {},
   "outputs": [
    {
     "name": "stdout",
     "output_type": "stream",
     "text": [
      "No Duplicate Files\n"
     ]
    }
   ],
   "source": [
    "import os\n",
    "import hashlib\n",
    "#Function to find duplicate files\n",
    "def findDuplicate(path):\n",
    "    hashedFilePath = {}\n",
    "    for root, dirName, files in os.walk(path):\n",
    "        for file in files:\n",
    "            filePath = os.path.join(root, file)\n",
    "            with open(filePath, 'rb') as f:\n",
    "                fileHash = hashlib.sha256(f.read()).hexdigest()\n",
    "            if fileHash in hashedFilePath:\n",
    "                hashedFilePath[fileHash].append(filePath)\n",
    "            else:\n",
    "                hashedFilePath[fileHash] = [filePath]\n",
    "    return {fileHash:filePath for fileHash, filePath in hashedFilePath.items() if len(filePath) > 1}\n",
    "# path = input(\"Enter file path: \")\n",
    "path = \"C:/Users/arysingh/OneDrive - ALLEGIS GROUP/Desktop/Test\"\n",
    "duplicateFiles = findDuplicate(path)\n",
    "if len(duplicateFiles) == 0:\n",
    "    print(\"No Duplicate Files\")\n",
    "else:\n",
    "    #removing duplicate files\n",
    "    for fileHash, filePath in duplicateFiles.items():\n",
    "        print(f\"fileHash : {fileHash}\")\n",
    "        for file in filePath[:-1]:\n",
    "            os.remove(file)\n"
   ]
  },
  {
   "attachments": {},
   "cell_type": "markdown",
   "metadata": {},
   "source": [
    "* Generate `random` Password with exact `length = 6`, with minimum 1 uppercase, 2 lowercase, 2 digits, and remaining special characters."
   ]
  },
  {
   "cell_type": "code",
   "execution_count": 54,
   "metadata": {},
   "outputs": [
    {
     "name": "stdout",
     "output_type": "stream",
     "text": [
      "0P4z5w\n"
     ]
    }
   ],
   "source": [
    "import string\n",
    "import random\n",
    "pas = \"\"\n",
    "i = 0\n",
    "lst = ['a', 'b', 'c', 'd' ,'e', 'f', 'g', 'h', 'i', 'j', 'k', 'l', 'm', 'n', 'o', 'p', 'q', 'r', 's', 't', 'u', 'v', 'w'\n",
    "       ,'x', 'y', 'z']\n",
    "lst1 = []\n",
    "for ele in lst:\n",
    "    lst1.append(ele.upper())\n",
    "list1 = ['a', 'b', 'c']\n",
    "b, c = 0, 0\n",
    "while True:\n",
    "    if random.choice(list1) == 'c' and c <= 3:\n",
    "        pas += str(random.randint(0, 9))\n",
    "        c += 1\n",
    "        if c == 3:\n",
    "            list1.remove('c')\n",
    "    elif random.choice(list1) == 'a':\n",
    "        pas += random.choice(lst1)\n",
    "        list1.remove('a')\n",
    "    elif random.choice(list1) == 'b' and  b <= 2:\n",
    "        pas += random.choice(lst)\n",
    "        b += 1\n",
    "        if b == 2:\n",
    "            list1.remove('b')\n",
    "    if len(pas) == 6:\n",
    "        break\n",
    "print(pas)"
   ]
  },
  {
   "attachments": {},
   "cell_type": "markdown",
   "metadata": {},
   "source": [
    "* Create `2D array` and `update` the same 2D array provided that every `prime number position` should be replaced by `cube` of the positioned number."
   ]
  },
  {
   "cell_type": "code",
   "execution_count": 29,
   "metadata": {},
   "outputs": [
    {
     "name": "stdout",
     "output_type": "stream",
     "text": [
      "[[0, 0, 0, 0], [0, 0, 0, 0], [0, 0, 0, 0], [0, 0, 0, 0]]\n"
     ]
    }
   ],
   "source": [
    "def Solution(mat):\n",
    "    pass\n",
    "\n",
    "row = int(input())\n",
    "col = int(input())\n",
    "mat = [[0 for i in range(row)] for j in range(col)]\n",
    "print(mat)"
   ]
  },
  {
   "attachments": {},
   "cell_type": "markdown",
   "metadata": {},
   "source": [
    "* Python program to get the `sum` of every `cubed value` and its `previous integer`."
   ]
  },
  {
   "cell_type": "code",
   "execution_count": 53,
   "metadata": {},
   "outputs": [
    {
     "data": {
      "text/plain": [
       "11"
      ]
     },
     "execution_count": 53,
     "metadata": {},
     "output_type": "execute_result"
    }
   ],
   "source": [
    "\n",
    "#Function to find sum\n",
    "def findSum(n):\n",
    "    cubed = n ** 3\n",
    "    sm = 0\n",
    "    while cubed > 0:\n",
    "        rem = cubed % 10\n",
    "        sm = sm + rem\n",
    "        cubed //= 10\n",
    "    return sm + n - 1\n",
    "n = int(input())\n",
    "findSum(n)"
   ]
  },
  {
   "attachments": {},
   "cell_type": "markdown",
   "metadata": {},
   "source": [
    "* Given two arrays, find their `intersection`.\n",
    "* Input:  arr1[] = [1, 3, 4, 5, 7]\n",
    "             arr2[] = [2, 3, 5, 6]"
   ]
  },
  {
   "cell_type": "code",
   "execution_count": 18,
   "metadata": {},
   "outputs": [
    {
     "data": {
      "text/plain": [
       "[3, 5]"
      ]
     },
     "execution_count": 18,
     "metadata": {},
     "output_type": "execute_result"
    }
   ],
   "source": [
    "#Approach_1\n",
    "def findIntersection(nums1, nums2, intersectionArr):\n",
    "    for idx, num in enumerate(set(nums1)):\n",
    "        if num in nums2:\n",
    "            intersectionArr.append(num)\n",
    "    return intersectionArr\n",
    "nums1 = list(map(int, input().split()))\n",
    "nums2 = list(map(int, input().split()))\n",
    "intersectionArr = []\n",
    "findIntersection(nums1, nums2, intersectionArr)\n",
    "\n",
    "#Approach_2\n",
    "def findIntersection(nums1, nums2):\n",
    "    uniqueNum1 = set(nums1)\n",
    "    uniqueNum2 = set(nums2)\n",
    "    intersectionArr = uniqueNum1 & uniqueNum2\n",
    "    return list(intersectionArr)\n",
    "nums1 = list(map(int, input().split()))\n",
    "nums2 = list(map(int, input().split()))\n",
    "findIntersection(nums1, nums2)"
   ]
  },
  {
   "attachments": {},
   "cell_type": "markdown",
   "metadata": {},
   "source": [
    "* Create a `7 x 7`  2D array having only `multiples of 7`. And return the last element of the same."
   ]
  },
  {
   "cell_type": "code",
   "execution_count": 45,
   "metadata": {},
   "outputs": [
    {
     "name": "stdout",
     "output_type": "stream",
     "text": [
      "[[7, 14, 21, 28, 35, 42, 49], [14, 21, 28, 35, 42, 49, 56], [21, 28, 35, 42, 49, 56, 63], [28, 35, 42, 49, 56, 63, 70], [35, 42, 49, 56, 63, 70, 77], [42, 49, 56, 63, 70, 77, 84]]\n",
      "84\n"
     ]
    }
   ],
   "source": [
    "row, col = map(int, input().split())\n",
    "matrx = [[7*(i+j) for i in range(row)]for j in range(1, col)]\n",
    "print(matrx)\n",
    "print(matrx[-1][-1])"
   ]
  },
  {
   "attachments": {},
   "cell_type": "markdown",
   "metadata": {},
   "source": [
    "* `Checker Board` Patten using `Numpy`.\n",
    "* Example :    \n",
    " \n",
    "    1   0   1   0   1   0   1 <br>\n",
    "    0   1   0   1   0   1   0 <br>\n",
    "    1   0   1   0   1   0   1 <br>\n",
    "    0   1   0   1   0   1   0 <br>\n",
    "    1   0   1   0   1   0   1 <br>\n"
   ]
  },
  {
   "cell_type": "code",
   "execution_count": 17,
   "metadata": {},
   "outputs": [
    {
     "data": {
      "text/plain": [
       "array([[1., 0., 1., 0., 1.],\n",
       "       [0., 1., 0., 1., 0.],\n",
       "       [1., 0., 1., 0., 1.],\n",
       "       [0., 1., 0., 1., 0.],\n",
       "       [1., 0., 1., 0., 1.]])"
      ]
     },
     "execution_count": 17,
     "metadata": {},
     "output_type": "execute_result"
    }
   ],
   "source": [
    "import numpy as np\n",
    "def checkerBoard(x, y):\n",
    "    npArr = np.ones((x, y))\n",
    "    npArr[1::2, ::2] = 0\n",
    "    npArr[::2, 1::2] = 0\n",
    "    return npArr\n",
    "\n",
    "x, y = map(int, input().split())\n",
    "checkerBoard(x, y)"
   ]
  },
  {
   "attachments": {},
   "cell_type": "markdown",
   "metadata": {},
   "source": [
    "* Create a given Matrix: <br>\n",
    "[  <br>\n",
    "   A,     B,     C,       D <br>\n",
    "   E,     F,     G,       H <br>\n",
    "   I,     a,     K,       L <br>\n",
    "   M,     N,     o,       P <br>\n",
    "   Q,     R,     S,       T <br>\n",
    "   U,     0,     W,       O <br>\n",
    "]\n",
    "* Replace all the vowels by np.nan\n",
    ">A, E, I, O U  -- >  np.nan\n",
    "* Return the count of the missing values"
   ]
  },
  {
   "cell_type": "code",
   "execution_count": 27,
   "metadata": {},
   "outputs": [
    {
     "name": "stdout",
     "output_type": "stream",
     "text": [
      "[nan, 'B', 'C', 'D', nan, 'F', 'G', 'H', nan, 'a', 'K', 'L', 'M', 'N', 'o', 'P', 'Q', 'R', 'S', 'T', nan, '0', 'W', nan] 5\n"
     ]
    }
   ],
   "source": [
    "import numpy as np\n",
    "def Solution(mat, vowels):\n",
    "    count = 0\n",
    "    for i, ele in enumerate(mat):\n",
    "        if ele in vowels:\n",
    "            mat[i] = np.nan\n",
    "            count += 1\n",
    "    return (mat, count)\n",
    "vowels = 'AEIOU'\n",
    "mat = ['A', 'B', 'C', 'D', 'E', 'F', 'G', 'H', 'I', 'a', 'K', 'L', 'M', 'N', 'o', 'P', 'Q', 'R', 'S', 'T', 'U', '0', 'W', 'O']\n",
    "X = Solution(mat, vowels)\n",
    "for ele in X[:-1]:\n",
    "    print(ele, end = \" \")\n",
    "print(X[-1])\n",
    "\n"
   ]
  }
 ],
 "metadata": {
  "kernelspec": {
   "display_name": "Python 3",
   "language": "python",
   "name": "python3"
  },
  "language_info": {
   "codemirror_mode": {
    "name": "ipython",
    "version": 3
   },
   "file_extension": ".py",
   "mimetype": "text/x-python",
   "name": "python",
   "nbconvert_exporter": "python",
   "pygments_lexer": "ipython3",
   "version": "3.11.2"
  },
  "orig_nbformat": 4
 },
 "nbformat": 4,
 "nbformat_minor": 2
}
