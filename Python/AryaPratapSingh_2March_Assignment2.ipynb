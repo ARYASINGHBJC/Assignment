{
 "cells": [
  {
   "attachments": {},
   "cell_type": "markdown",
   "metadata": {},
   "source": [
    "* Create a python program to find `duplicate files` by `content`. User will input path and it will \n",
    "scan all directories, sub-directories to find all `duplicates files`.\n",
    "* `Delete` the found duplicate file"
   ]
  },
  {
   "cell_type": "code",
   "execution_count": 31,
   "metadata": {},
   "outputs": [
    {
     "name": "stdout",
     "output_type": "stream",
     "text": [
      "No Duplicate Files\n"
     ]
    }
   ],
   "source": [
    "import os\n",
    "import hashlib\n",
    "#Function to find duplicate files\n",
    "def findDuplicate(path):\n",
    "    hashedFilePath = {}\n",
    "    for root, dirName, files in os.walk(path):\n",
    "        for file in files:\n",
    "            filePath = os.path.join(root, file)\n",
    "            with open(filePath, 'rb') as f:\n",
    "                fileHash = hashlib.sha256(f.read()).hexdigest()\n",
    "            if fileHash in hashedFilePath:\n",
    "                hashedFilePath[fileHash].append(filePath)\n",
    "            else:\n",
    "                hashedFilePath[fileHash] = [filePath]\n",
    "    return {fileHash:filePath for fileHash, filePath in hashedFilePath.items() if len(filePath) > 1}\n",
    "# path = input(\"Enter file path: \")\n",
    "path = \"C:/Users/arysingh/OneDrive - ALLEGIS GROUP/Desktop/Test\"\n",
    "duplicateFiles = findDuplicate(path)\n",
    "if len(duplicateFiles) == 0:\n",
    "    print(\"No Duplicate Files\")\n",
    "else:\n",
    "    #removing duplicate files\n",
    "    for fileHash, filePath in duplicateFiles.items():\n",
    "        print(f\"fileHash : {fileHash}\")\n",
    "        for file in filePath[:-1]:\n",
    "            os.remove(file)\n"
   ]
  },
  {
   "attachments": {},
   "cell_type": "markdown",
   "metadata": {},
   "source": [
    "* Generate `random` Password with exact `length = 6`, with minimum 1 uppercase, 2 lowercase, 2 digits, and remaining special characters."
   ]
  },
  {
   "cell_type": "code",
   "execution_count": 17,
   "metadata": {},
   "outputs": [
    {
     "name": "stdout",
     "output_type": "stream",
     "text": [
      "Qs:3e6\n"
     ]
    }
   ],
   "source": [
    "import string\n",
    "import random\n",
    "\n",
    "uppercase = string.ascii_uppercase\n",
    "lowercase = string.ascii_lowercase\n",
    "digits = string.digits\n",
    "specialChars = string.punctuation.replace(\"_\", \"\") # Removing underscore\n",
    "print(specialChars)\n",
    "password = random.choice(uppercase) \n",
    "password += ''.join(random.choices(lowercase, k=2)) \n",
    "password += ''.join(random.choices(digits, k=2)) \n",
    "password += ''.join(random.choices(specialChars))\n",
    "\n",
    "password_list = list(password)\n",
    "random.shuffle(password_list)\n",
    "password = ''.join(password_list)\n",
    "\n",
    "print(password)\n"
   ]
  },
  {
   "attachments": {},
   "cell_type": "markdown",
   "metadata": {},
   "source": [
    "* Create `2D array` and `update` the same 2D array provided that every `prime number position` should be replaced by `cube` of the positioned number."
   ]
  },
  {
   "cell_type": "code",
   "execution_count": 5,
   "metadata": {},
   "outputs": [
    {
     "data": {
      "text/plain": [
       "array([[   0,    1,    8],\n",
       "       [  27,    4,  125],\n",
       "       [   6,  343,    8],\n",
       "       [   9,   10, 1331],\n",
       "       [  12, 2197,   14],\n",
       "       [  15,   16, 4913]])"
      ]
     },
     "execution_count": 5,
     "metadata": {},
     "output_type": "execute_result"
    }
   ],
   "source": [
    "import numpy as np\n",
    "def prime(x):\n",
    "    if x < 2:\n",
    "        return False\n",
    "    for i in range(2, x):\n",
    "        if x % i == 0:\n",
    "            return False\n",
    "    return True\n",
    "\n",
    "def Solution(mat,k= 0):\n",
    "    for i in range(row):\n",
    "        for j in range(col):\n",
    "            if prime(k):\n",
    "                mat[i][j] = (k) ** 3\n",
    "            k += 1\n",
    "    return mat\n",
    "row = int(input())\n",
    "col = int(input())\n",
    "mat = np.arange(0, row*col).reshape((row, col))\n",
    "Solution(mat)"
   ]
  },
  {
   "attachments": {},
   "cell_type": "markdown",
   "metadata": {},
   "source": [
    "* Python program to get the `sum` of every `cubed value` and its `previous integer`."
   ]
  },
  {
   "cell_type": "code",
   "execution_count": 6,
   "metadata": {},
   "outputs": [
    {
     "data": {
      "text/plain": [
       "array([[   0,    1,    9],\n",
       "       [  36,    4,  129],\n",
       "       [   6,  349,    8],\n",
       "       [   9,   10, 1341],\n",
       "       [  12, 2209,   14],\n",
       "       [  15,   16, 4929]])"
      ]
     },
     "execution_count": 6,
     "metadata": {},
     "output_type": "execute_result"
    }
   ],
   "source": [
    "import math\n",
    "def prime(x):\n",
    "    if x < 2:\n",
    "        return False\n",
    "    for i in range(2, x):\n",
    "        if x % i == 0:\n",
    "            return False\n",
    "    return True\n",
    "#Function to find sum\n",
    "def findSum(mat, k = 0):\n",
    "    for i in range(len(mat)):\n",
    "        for j in range(len(mat[0])):\n",
    "            if prime(k):\n",
    "                sum1=0\n",
    "                if j>0:\n",
    "                    sum1+= mat[i][j-1]\n",
    "                else:\n",
    "                    sum1+=mat[i-1][-1]\n",
    "                mat[i][j] +=sum1\n",
    "            k += 1\n",
    "    return mat\n",
    "\n",
    "findSum(mat)"
   ]
  },
  {
   "attachments": {},
   "cell_type": "markdown",
   "metadata": {},
   "source": [
    "* Given two arrays, find their `intersection`.\n",
    "* Input:  arr1[] = [1, 3, 4, 5, 7]\n",
    "             arr2[] = [2, 3, 5, 6]"
   ]
  },
  {
   "cell_type": "code",
   "execution_count": 18,
   "metadata": {},
   "outputs": [
    {
     "data": {
      "text/plain": [
       "[3, 5]"
      ]
     },
     "execution_count": 18,
     "metadata": {},
     "output_type": "execute_result"
    }
   ],
   "source": [
    "#Approach_1\n",
    "def findIntersection(nums1, nums2, intersectionArr):\n",
    "    for idx, num in enumerate(set(nums1)):\n",
    "        if num in nums2:\n",
    "            intersectionArr.append(num)\n",
    "    return intersectionArr\n",
    "nums1 = list(map(int, input().split()))\n",
    "nums2 = list(map(int, input().split()))\n",
    "intersectionArr = []\n",
    "findIntersection(nums1, nums2, intersectionArr)\n",
    "\n",
    "#Approach_2\n",
    "def findIntersection(nums1, nums2):\n",
    "    uniqueNum1 = set(nums1)\n",
    "    uniqueNum2 = set(nums2)\n",
    "    intersectionArr = uniqueNum1 & uniqueNum2\n",
    "    return list(intersectionArr)\n",
    "nums1 = list(map(int, input().split()))\n",
    "nums2 = list(map(int, input().split()))\n",
    "findIntersection(nums1, nums2)"
   ]
  },
  {
   "attachments": {},
   "cell_type": "markdown",
   "metadata": {},
   "source": [
    "* Create a `7 x 7`  2D array having only `multiples of 7`. And return the last element of the same."
   ]
  },
  {
   "cell_type": "code",
   "execution_count": 19,
   "metadata": {},
   "outputs": [
    {
     "name": "stdout",
     "output_type": "stream",
     "text": [
      "[[  7  14  21  28  35  42  49]\n",
      " [ 56  63  70  77  84  91  98]\n",
      " [105 112 119 126 133 140 147]\n",
      " [154 161 168 175 182 189 196]\n",
      " [203 210 217 224 231 238 245]\n",
      " [252 259 266 273 280 287 294]\n",
      " [301 308 315 322 329 336 343]]\n",
      "343\n"
     ]
    }
   ],
   "source": [
    "import numpy as np\n",
    "row, col = map(int, input().split())\n",
    "matrxDm = int(input())\n",
    "matrx = np.arange(matrxDm, matrxDm*(row*col+1), matrxDm).reshape(row, col)\n",
    "print(matrx)\n",
    "print(matrx[-1][-1])"
   ]
  },
  {
   "attachments": {},
   "cell_type": "markdown",
   "metadata": {},
   "source": [
    "* `Checker Board` Patten using `Numpy`.\n",
    "* Example :    \n",
    " \n",
    "    1   0   1   0   1   0   1 <br>\n",
    "    0   1   0   1   0   1   0 <br>\n",
    "    1   0   1   0   1   0   1 <br>\n",
    "    0   1   0   1   0   1   0 <br>\n",
    "    1   0   1   0   1   0   1 <br>\n"
   ]
  },
  {
   "cell_type": "code",
   "execution_count": 17,
   "metadata": {},
   "outputs": [
    {
     "data": {
      "text/plain": [
       "array([[1., 0., 1., 0., 1.],\n",
       "       [0., 1., 0., 1., 0.],\n",
       "       [1., 0., 1., 0., 1.],\n",
       "       [0., 1., 0., 1., 0.],\n",
       "       [1., 0., 1., 0., 1.]])"
      ]
     },
     "execution_count": 17,
     "metadata": {},
     "output_type": "execute_result"
    }
   ],
   "source": [
    "import numpy as np\n",
    "def checkerBoard(x, y):\n",
    "    npArr = np.ones((x, y))\n",
    "    npArr[1::2, ::2] = 0\n",
    "    npArr[::2, 1::2] = 0\n",
    "    return npArr\n",
    "\n",
    "x, y = map(int, input().split())\n",
    "checkerBoard(x, y)"
   ]
  },
  {
   "attachments": {},
   "cell_type": "markdown",
   "metadata": {},
   "source": [
    "* Create a given Matrix: <br>\n",
    "[  <br>\n",
    "   A,     B,     C,       D <br>\n",
    "   E,     F,     G,       H <br>\n",
    "   I,     a,     K,       L <br>\n",
    "   M,     N,     o,       P <br>\n",
    "   Q,     R,     S,       T <br>\n",
    "   U,     0,     W,       O <br>\n",
    "]\n",
    "* Replace all the vowels by np.nan\n",
    ">A, E, I, O U  -- >  np.nan\n",
    "* Return the count of the missing values"
   ]
  },
  {
   "cell_type": "code",
   "execution_count": 10,
   "metadata": {},
   "outputs": [
    {
     "name": "stdout",
     "output_type": "stream",
     "text": [
      "[['nan' 'B' 'C' 'D' 'nan' 'F']\n",
      " ['G' 'H' 'nan' 'a' 'K' 'L']\n",
      " ['M' 'N' 'o' 'P' 'Q' 'R']\n",
      " ['S' 'T' 'nan' '0' 'W' 'nan']]\n",
      "5\n"
     ]
    }
   ],
   "source": [
    "import numpy as np\n",
    "count = 0\n",
    "vowels = 'AEIOU'\n",
    "mat = ['A', 'B', 'C', 'D', 'E', 'F', 'G', 'H', 'I', 'a', 'K', 'L', 'M', 'N', 'o', 'P', 'Q', 'R', 'S', 'T', 'U', '0', 'W', 'O']\n",
    "for i, ele in enumerate(mat):\n",
    "    if ele in vowels:\n",
    "        mat[i] = np.nan\n",
    "        count += 1\n",
    "npArr = np.array(mat)\n",
    "print(npArr.reshape(4,6))\n",
    "print(count)\n",
    "\n"
   ]
  }
 ],
 "metadata": {
  "kernelspec": {
   "display_name": "Python 3",
   "language": "python",
   "name": "python3"
  },
  "language_info": {
   "codemirror_mode": {
    "name": "ipython",
    "version": 3
   },
   "file_extension": ".py",
   "mimetype": "text/x-python",
   "name": "python",
   "nbconvert_exporter": "python",
   "pygments_lexer": "ipython3",
   "version": "3.9.13"
  },
  "orig_nbformat": 4
 },
 "nbformat": 4,
 "nbformat_minor": 2
}
